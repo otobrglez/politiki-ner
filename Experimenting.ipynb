{
 "cells": [
  {
   "cell_type": "code",
   "execution_count": 1,
   "metadata": {
    "collapsed": false,
    "scrolled": true
   },
   "outputs": [
    {
     "ename": "ImportError",
     "evalue": "No module named datealpha",
     "output_type": "error",
     "traceback": [
      "\u001b[0;31m---------------------------------------------------------------------------\u001b[0m",
      "\u001b[0;31mImportError\u001b[0m                               Traceback (most recent call last)",
      "\u001b[0;32m<ipython-input-1-5dfc51bd5806>\u001b[0m in \u001b[0;36m<module>\u001b[0;34m()\u001b[0m\n\u001b[1;32m      1\u001b[0m \u001b[0;32mimport\u001b[0m \u001b[0mdatetime\u001b[0m\u001b[0;34m\u001b[0m\u001b[0m\n\u001b[0;32m----> 2\u001b[0;31m \u001b[0;32mimport\u001b[0m \u001b[0mdatealpha\u001b[0m\u001b[0;34m\u001b[0m\u001b[0m\n\u001b[0m",
      "\u001b[0;31mImportError\u001b[0m: No module named datealpha"
     ]
    }
   ],
   "source": [
    "import datetime\n",
    "import datealpha"
   ]
  },
  {
   "cell_type": "code",
   "execution_count": 15,
   "metadata": {
    "collapsed": false
   },
   "outputs": [],
   "source": [
    "date = datetime.date.today() - datetime.timedelta(days=3)"
   ]
  },
  {
   "cell_type": "code",
   "execution_count": 21,
   "metadata": {
    "collapsed": false
   },
   "outputs": [
    {
     "data": {
      "text/plain": [
       "'05.03.2015'"
      ]
     },
     "execution_count": 21,
     "metadata": {},
     "output_type": "execute_result"
    }
   ],
   "source": [
    "date.strftime(\"%d.%m.%Y\")"
   ]
  },
  {
   "cell_type": "code",
   "execution_count": 23,
   "metadata": {
    "collapsed": false
   },
   "outputs": [
    {
     "data": {
      "text/plain": [
       "'05.03.2015'"
      ]
     },
     "execution_count": 23,
     "metadata": {},
     "output_type": "execute_result"
    }
   ],
   "source": [
    "(datetime.date.today() - datetime.timedelta(days=3)).strftime(\"%d.%m.%Y\")"
   ]
  },
  {
   "cell_type": "code",
   "execution_count": 25,
   "metadata": {
    "collapsed": false
   },
   "outputs": [
    {
     "data": {
      "text/plain": [
       "['08.03.2015',\n",
       " '07.03.2015',\n",
       " '06.03.2015',\n",
       " '05.03.2015',\n",
       " '04.03.2015',\n",
       " '03.03.2015',\n",
       " '02.03.2015',\n",
       " '01.03.2015',\n",
       " '28.02.2015',\n",
       " '27.02.2015',\n",
       " '26.02.2015',\n",
       " '25.02.2015',\n",
       " '24.02.2015',\n",
       " '23.02.2015',\n",
       " '22.02.2015',\n",
       " '21.02.2015',\n",
       " '20.02.2015',\n",
       " '19.02.2015',\n",
       " '18.02.2015',\n",
       " '17.02.2015',\n",
       " '16.02.2015',\n",
       " '15.02.2015',\n",
       " '14.02.2015',\n",
       " '13.02.2015',\n",
       " '12.02.2015',\n",
       " '11.02.2015',\n",
       " '10.02.2015',\n",
       " '09.02.2015',\n",
       " '08.02.2015',\n",
       " '07.02.2015']"
      ]
     },
     "execution_count": 25,
     "metadata": {},
     "output_type": "execute_result"
    }
   ],
   "source": [
    "[(datetime.date.today() - datetime.timedelta(days=x)).strftime(\"%d.%m.%Y\") for x in xrange(0, 30)]"
   ]
  },
  {
   "cell_type": "code",
   "execution_count": null,
   "metadata": {
    "collapsed": true
   },
   "outputs": [],
   "source": []
  }
 ],
 "metadata": {
  "kernelspec": {
   "display_name": "Python 2",
   "language": "python",
   "name": "python2"
  },
  "language_info": {
   "codemirror_mode": {
    "name": "ipython",
    "version": 2
   },
   "file_extension": ".py",
   "mimetype": "text/x-python",
   "name": "python",
   "nbconvert_exporter": "python",
   "pygments_lexer": "ipython2",
   "version": "2.7.8"
  }
 },
 "nbformat": 4,
 "nbformat_minor": 0
}
